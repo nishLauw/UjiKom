{
  "cells": [
    {
      "cell_type": "markdown",
      "metadata": {
        "id": "view-in-github",
        "colab_type": "text"
      },
      "source": [
        "<a href=\"https://colab.research.google.com/github/nishLauw/Latihan1/blob/master/Anisah_Raharjo.ipynb\" target=\"_parent\"><img src=\"https://colab.research.google.com/assets/colab-badge.svg\" alt=\"Open In Colab\"/></a>"
      ]
    },
    {
      "cell_type": "markdown",
      "id": "ae0654e1",
      "metadata": {
        "id": "ae0654e1"
      },
      "source": [
        "### Homework Trial Class - Mini Case"
      ]
    },
    {
      "cell_type": "markdown",
      "source": [
        "## --- Anisah Raharjo ---"
      ],
      "metadata": {
        "id": "UKbbeUbTLfOb"
      },
      "id": "UKbbeUbTLfOb"
    },
    {
      "cell_type": "markdown",
      "id": "578645f2",
      "metadata": {
        "id": "578645f2"
      },
      "source": [
        "# Mengukur Performa Penjualan Ritel Online"
      ]
    },
    {
      "cell_type": "markdown",
      "id": "ebf52fe7",
      "metadata": {
        "id": "ebf52fe7"
      },
      "source": [
        "## Load Data"
      ]
    },
    {
      "cell_type": "code",
      "execution_count": null,
      "id": "6c4b0183",
      "metadata": {
        "id": "6c4b0183"
      },
      "outputs": [],
      "source": [
        "import pandas as pd\n",
        "import matplotlib.pyplot as plt\n",
        "import numpy as np"
      ]
    },
    {
      "cell_type": "code",
      "source": [
        "df = pd.read_csv('online_retail_II.csv')\n",
        "df.head()"
      ],
      "metadata": {
        "colab": {
          "base_uri": "https://localhost:8080/",
          "height": 206
        },
        "id": "twWdSYQWYRSI",
        "outputId": "1e670c77-3263-4ac2-fdfb-77bf9137d45d"
      },
      "id": "twWdSYQWYRSI",
      "execution_count": null,
      "outputs": [
        {
          "output_type": "execute_result",
          "data": {
            "text/plain": [
              "  Invoice StockCode                          Description  Quantity  \\\n",
              "0  489434     85048  15CM CHRISTMAS GLASS BALL 20 LIGHTS        12   \n",
              "1  489434    79323P                   PINK CHERRY LIGHTS        12   \n",
              "2  489434    79323W                  WHITE CHERRY LIGHTS        12   \n",
              "3  489434     22041         RECORD FRAME 7\" SINGLE SIZE         48   \n",
              "4  489434     21232       STRAWBERRY CERAMIC TRINKET BOX        24   \n",
              "\n",
              "           InvoiceDate  Price  Customer ID         Country  \n",
              "0  2009-12-01 07:45:00   6.95      13085.0  United Kingdom  \n",
              "1  2009-12-01 07:45:00   6.75      13085.0  United Kingdom  \n",
              "2  2009-12-01 07:45:00   6.75      13085.0  United Kingdom  \n",
              "3  2009-12-01 07:45:00   2.10      13085.0  United Kingdom  \n",
              "4  2009-12-01 07:45:00   1.25      13085.0  United Kingdom  "
            ],
            "text/html": [
              "\n",
              "  <div id=\"df-54cc9059-c567-46b1-b82b-bcaa1e3ee615\">\n",
              "    <div class=\"colab-df-container\">\n",
              "      <div>\n",
              "<style scoped>\n",
              "    .dataframe tbody tr th:only-of-type {\n",
              "        vertical-align: middle;\n",
              "    }\n",
              "\n",
              "    .dataframe tbody tr th {\n",
              "        vertical-align: top;\n",
              "    }\n",
              "\n",
              "    .dataframe thead th {\n",
              "        text-align: right;\n",
              "    }\n",
              "</style>\n",
              "<table border=\"1\" class=\"dataframe\">\n",
              "  <thead>\n",
              "    <tr style=\"text-align: right;\">\n",
              "      <th></th>\n",
              "      <th>Invoice</th>\n",
              "      <th>StockCode</th>\n",
              "      <th>Description</th>\n",
              "      <th>Quantity</th>\n",
              "      <th>InvoiceDate</th>\n",
              "      <th>Price</th>\n",
              "      <th>Customer ID</th>\n",
              "      <th>Country</th>\n",
              "    </tr>\n",
              "  </thead>\n",
              "  <tbody>\n",
              "    <tr>\n",
              "      <th>0</th>\n",
              "      <td>489434</td>\n",
              "      <td>85048</td>\n",
              "      <td>15CM CHRISTMAS GLASS BALL 20 LIGHTS</td>\n",
              "      <td>12</td>\n",
              "      <td>2009-12-01 07:45:00</td>\n",
              "      <td>6.95</td>\n",
              "      <td>13085.0</td>\n",
              "      <td>United Kingdom</td>\n",
              "    </tr>\n",
              "    <tr>\n",
              "      <th>1</th>\n",
              "      <td>489434</td>\n",
              "      <td>79323P</td>\n",
              "      <td>PINK CHERRY LIGHTS</td>\n",
              "      <td>12</td>\n",
              "      <td>2009-12-01 07:45:00</td>\n",
              "      <td>6.75</td>\n",
              "      <td>13085.0</td>\n",
              "      <td>United Kingdom</td>\n",
              "    </tr>\n",
              "    <tr>\n",
              "      <th>2</th>\n",
              "      <td>489434</td>\n",
              "      <td>79323W</td>\n",
              "      <td>WHITE CHERRY LIGHTS</td>\n",
              "      <td>12</td>\n",
              "      <td>2009-12-01 07:45:00</td>\n",
              "      <td>6.75</td>\n",
              "      <td>13085.0</td>\n",
              "      <td>United Kingdom</td>\n",
              "    </tr>\n",
              "    <tr>\n",
              "      <th>3</th>\n",
              "      <td>489434</td>\n",
              "      <td>22041</td>\n",
              "      <td>RECORD FRAME 7\" SINGLE SIZE</td>\n",
              "      <td>48</td>\n",
              "      <td>2009-12-01 07:45:00</td>\n",
              "      <td>2.10</td>\n",
              "      <td>13085.0</td>\n",
              "      <td>United Kingdom</td>\n",
              "    </tr>\n",
              "    <tr>\n",
              "      <th>4</th>\n",
              "      <td>489434</td>\n",
              "      <td>21232</td>\n",
              "      <td>STRAWBERRY CERAMIC TRINKET BOX</td>\n",
              "      <td>24</td>\n",
              "      <td>2009-12-01 07:45:00</td>\n",
              "      <td>1.25</td>\n",
              "      <td>13085.0</td>\n",
              "      <td>United Kingdom</td>\n",
              "    </tr>\n",
              "  </tbody>\n",
              "</table>\n",
              "</div>\n",
              "      <button class=\"colab-df-convert\" onclick=\"convertToInteractive('df-54cc9059-c567-46b1-b82b-bcaa1e3ee615')\"\n",
              "              title=\"Convert this dataframe to an interactive table.\"\n",
              "              style=\"display:none;\">\n",
              "        \n",
              "  <svg xmlns=\"http://www.w3.org/2000/svg\" height=\"24px\"viewBox=\"0 0 24 24\"\n",
              "       width=\"24px\">\n",
              "    <path d=\"M0 0h24v24H0V0z\" fill=\"none\"/>\n",
              "    <path d=\"M18.56 5.44l.94 2.06.94-2.06 2.06-.94-2.06-.94-.94-2.06-.94 2.06-2.06.94zm-11 1L8.5 8.5l.94-2.06 2.06-.94-2.06-.94L8.5 2.5l-.94 2.06-2.06.94zm10 10l.94 2.06.94-2.06 2.06-.94-2.06-.94-.94-2.06-.94 2.06-2.06.94z\"/><path d=\"M17.41 7.96l-1.37-1.37c-.4-.4-.92-.59-1.43-.59-.52 0-1.04.2-1.43.59L10.3 9.45l-7.72 7.72c-.78.78-.78 2.05 0 2.83L4 21.41c.39.39.9.59 1.41.59.51 0 1.02-.2 1.41-.59l7.78-7.78 2.81-2.81c.8-.78.8-2.07 0-2.86zM5.41 20L4 18.59l7.72-7.72 1.47 1.35L5.41 20z\"/>\n",
              "  </svg>\n",
              "      </button>\n",
              "      \n",
              "  <style>\n",
              "    .colab-df-container {\n",
              "      display:flex;\n",
              "      flex-wrap:wrap;\n",
              "      gap: 12px;\n",
              "    }\n",
              "\n",
              "    .colab-df-convert {\n",
              "      background-color: #E8F0FE;\n",
              "      border: none;\n",
              "      border-radius: 50%;\n",
              "      cursor: pointer;\n",
              "      display: none;\n",
              "      fill: #1967D2;\n",
              "      height: 32px;\n",
              "      padding: 0 0 0 0;\n",
              "      width: 32px;\n",
              "    }\n",
              "\n",
              "    .colab-df-convert:hover {\n",
              "      background-color: #E2EBFA;\n",
              "      box-shadow: 0px 1px 2px rgba(60, 64, 67, 0.3), 0px 1px 3px 1px rgba(60, 64, 67, 0.15);\n",
              "      fill: #174EA6;\n",
              "    }\n",
              "\n",
              "    [theme=dark] .colab-df-convert {\n",
              "      background-color: #3B4455;\n",
              "      fill: #D2E3FC;\n",
              "    }\n",
              "\n",
              "    [theme=dark] .colab-df-convert:hover {\n",
              "      background-color: #434B5C;\n",
              "      box-shadow: 0px 1px 3px 1px rgba(0, 0, 0, 0.15);\n",
              "      filter: drop-shadow(0px 1px 2px rgba(0, 0, 0, 0.3));\n",
              "      fill: #FFFFFF;\n",
              "    }\n",
              "  </style>\n",
              "\n",
              "      <script>\n",
              "        const buttonEl =\n",
              "          document.querySelector('#df-54cc9059-c567-46b1-b82b-bcaa1e3ee615 button.colab-df-convert');\n",
              "        buttonEl.style.display =\n",
              "          google.colab.kernel.accessAllowed ? 'block' : 'none';\n",
              "\n",
              "        async function convertToInteractive(key) {\n",
              "          const element = document.querySelector('#df-54cc9059-c567-46b1-b82b-bcaa1e3ee615');\n",
              "          const dataTable =\n",
              "            await google.colab.kernel.invokeFunction('convertToInteractive',\n",
              "                                                     [key], {});\n",
              "          if (!dataTable) return;\n",
              "\n",
              "          const docLinkHtml = 'Like what you see? Visit the ' +\n",
              "            '<a target=\"_blank\" href=https://colab.research.google.com/notebooks/data_table.ipynb>data table notebook</a>'\n",
              "            + ' to learn more about interactive tables.';\n",
              "          element.innerHTML = '';\n",
              "          dataTable['output_type'] = 'display_data';\n",
              "          await google.colab.output.renderOutput(dataTable, element);\n",
              "          const docLink = document.createElement('div');\n",
              "          docLink.innerHTML = docLinkHtml;\n",
              "          element.appendChild(docLink);\n",
              "        }\n",
              "      </script>\n",
              "    </div>\n",
              "  </div>\n",
              "  "
            ]
          },
          "metadata": {},
          "execution_count": 20
        }
      ]
    },
    {
      "cell_type": "code",
      "source": [
        "df.columns"
      ],
      "metadata": {
        "colab": {
          "base_uri": "https://localhost:8080/"
        },
        "id": "9g386cZoZSoC",
        "outputId": "2d3de7cb-468a-4192-bf51-23fd49a4bbe3"
      },
      "id": "9g386cZoZSoC",
      "execution_count": null,
      "outputs": [
        {
          "output_type": "execute_result",
          "data": {
            "text/plain": [
              "Index(['Invoice', 'StockCode', 'Description', 'Quantity', 'InvoiceDate',\n",
              "       'Price', 'Customer ID', 'Country'],\n",
              "      dtype='object')"
            ]
          },
          "metadata": {},
          "execution_count": 16
        }
      ]
    },
    {
      "cell_type": "markdown",
      "id": "794e2063",
      "metadata": {
        "id": "794e2063"
      },
      "source": [
        "## Section 1"
      ]
    },
    {
      "cell_type": "markdown",
      "id": "0ead195f",
      "metadata": {
        "id": "0ead195f"
      },
      "source": [
        "### Create New Feature: Year"
      ]
    },
    {
      "cell_type": "code",
      "execution_count": null,
      "id": "5a1281e7",
      "metadata": {
        "colab": {
          "base_uri": "https://localhost:8080/",
          "height": 206
        },
        "id": "5a1281e7",
        "outputId": "0640fdd1-c8c1-4562-ef44-a2957d64592a"
      },
      "outputs": [
        {
          "output_type": "execute_result",
          "data": {
            "text/plain": [
              "  Invoice StockCode                          Description  Quantity  \\\n",
              "0  489434     85048  15CM CHRISTMAS GLASS BALL 20 LIGHTS        12   \n",
              "1  489434    79323P                   PINK CHERRY LIGHTS        12   \n",
              "2  489434    79323W                  WHITE CHERRY LIGHTS        12   \n",
              "3  489434     22041         RECORD FRAME 7\" SINGLE SIZE         48   \n",
              "4  489434     21232       STRAWBERRY CERAMIC TRINKET BOX        24   \n",
              "\n",
              "          InvoiceDate  Price  Customer ID         Country  Revenue  Year  \n",
              "0 2009-12-01 07:45:00   6.95      13085.0  United Kingdom     83.4  2009  \n",
              "1 2009-12-01 07:45:00   6.75      13085.0  United Kingdom     81.0  2009  \n",
              "2 2009-12-01 07:45:00   6.75      13085.0  United Kingdom     81.0  2009  \n",
              "3 2009-12-01 07:45:00   2.10      13085.0  United Kingdom    100.8  2009  \n",
              "4 2009-12-01 07:45:00   1.25      13085.0  United Kingdom     30.0  2009  "
            ],
            "text/html": [
              "\n",
              "  <div id=\"df-ea0b3e89-c5ba-420c-9325-17b8c373c26f\">\n",
              "    <div class=\"colab-df-container\">\n",
              "      <div>\n",
              "<style scoped>\n",
              "    .dataframe tbody tr th:only-of-type {\n",
              "        vertical-align: middle;\n",
              "    }\n",
              "\n",
              "    .dataframe tbody tr th {\n",
              "        vertical-align: top;\n",
              "    }\n",
              "\n",
              "    .dataframe thead th {\n",
              "        text-align: right;\n",
              "    }\n",
              "</style>\n",
              "<table border=\"1\" class=\"dataframe\">\n",
              "  <thead>\n",
              "    <tr style=\"text-align: right;\">\n",
              "      <th></th>\n",
              "      <th>Invoice</th>\n",
              "      <th>StockCode</th>\n",
              "      <th>Description</th>\n",
              "      <th>Quantity</th>\n",
              "      <th>InvoiceDate</th>\n",
              "      <th>Price</th>\n",
              "      <th>Customer ID</th>\n",
              "      <th>Country</th>\n",
              "      <th>Revenue</th>\n",
              "      <th>Year</th>\n",
              "    </tr>\n",
              "  </thead>\n",
              "  <tbody>\n",
              "    <tr>\n",
              "      <th>0</th>\n",
              "      <td>489434</td>\n",
              "      <td>85048</td>\n",
              "      <td>15CM CHRISTMAS GLASS BALL 20 LIGHTS</td>\n",
              "      <td>12</td>\n",
              "      <td>2009-12-01 07:45:00</td>\n",
              "      <td>6.95</td>\n",
              "      <td>13085.0</td>\n",
              "      <td>United Kingdom</td>\n",
              "      <td>83.4</td>\n",
              "      <td>2009</td>\n",
              "    </tr>\n",
              "    <tr>\n",
              "      <th>1</th>\n",
              "      <td>489434</td>\n",
              "      <td>79323P</td>\n",
              "      <td>PINK CHERRY LIGHTS</td>\n",
              "      <td>12</td>\n",
              "      <td>2009-12-01 07:45:00</td>\n",
              "      <td>6.75</td>\n",
              "      <td>13085.0</td>\n",
              "      <td>United Kingdom</td>\n",
              "      <td>81.0</td>\n",
              "      <td>2009</td>\n",
              "    </tr>\n",
              "    <tr>\n",
              "      <th>2</th>\n",
              "      <td>489434</td>\n",
              "      <td>79323W</td>\n",
              "      <td>WHITE CHERRY LIGHTS</td>\n",
              "      <td>12</td>\n",
              "      <td>2009-12-01 07:45:00</td>\n",
              "      <td>6.75</td>\n",
              "      <td>13085.0</td>\n",
              "      <td>United Kingdom</td>\n",
              "      <td>81.0</td>\n",
              "      <td>2009</td>\n",
              "    </tr>\n",
              "    <tr>\n",
              "      <th>3</th>\n",
              "      <td>489434</td>\n",
              "      <td>22041</td>\n",
              "      <td>RECORD FRAME 7\" SINGLE SIZE</td>\n",
              "      <td>48</td>\n",
              "      <td>2009-12-01 07:45:00</td>\n",
              "      <td>2.10</td>\n",
              "      <td>13085.0</td>\n",
              "      <td>United Kingdom</td>\n",
              "      <td>100.8</td>\n",
              "      <td>2009</td>\n",
              "    </tr>\n",
              "    <tr>\n",
              "      <th>4</th>\n",
              "      <td>489434</td>\n",
              "      <td>21232</td>\n",
              "      <td>STRAWBERRY CERAMIC TRINKET BOX</td>\n",
              "      <td>24</td>\n",
              "      <td>2009-12-01 07:45:00</td>\n",
              "      <td>1.25</td>\n",
              "      <td>13085.0</td>\n",
              "      <td>United Kingdom</td>\n",
              "      <td>30.0</td>\n",
              "      <td>2009</td>\n",
              "    </tr>\n",
              "  </tbody>\n",
              "</table>\n",
              "</div>\n",
              "      <button class=\"colab-df-convert\" onclick=\"convertToInteractive('df-ea0b3e89-c5ba-420c-9325-17b8c373c26f')\"\n",
              "              title=\"Convert this dataframe to an interactive table.\"\n",
              "              style=\"display:none;\">\n",
              "        \n",
              "  <svg xmlns=\"http://www.w3.org/2000/svg\" height=\"24px\"viewBox=\"0 0 24 24\"\n",
              "       width=\"24px\">\n",
              "    <path d=\"M0 0h24v24H0V0z\" fill=\"none\"/>\n",
              "    <path d=\"M18.56 5.44l.94 2.06.94-2.06 2.06-.94-2.06-.94-.94-2.06-.94 2.06-2.06.94zm-11 1L8.5 8.5l.94-2.06 2.06-.94-2.06-.94L8.5 2.5l-.94 2.06-2.06.94zm10 10l.94 2.06.94-2.06 2.06-.94-2.06-.94-.94-2.06-.94 2.06-2.06.94z\"/><path d=\"M17.41 7.96l-1.37-1.37c-.4-.4-.92-.59-1.43-.59-.52 0-1.04.2-1.43.59L10.3 9.45l-7.72 7.72c-.78.78-.78 2.05 0 2.83L4 21.41c.39.39.9.59 1.41.59.51 0 1.02-.2 1.41-.59l7.78-7.78 2.81-2.81c.8-.78.8-2.07 0-2.86zM5.41 20L4 18.59l7.72-7.72 1.47 1.35L5.41 20z\"/>\n",
              "  </svg>\n",
              "      </button>\n",
              "      \n",
              "  <style>\n",
              "    .colab-df-container {\n",
              "      display:flex;\n",
              "      flex-wrap:wrap;\n",
              "      gap: 12px;\n",
              "    }\n",
              "\n",
              "    .colab-df-convert {\n",
              "      background-color: #E8F0FE;\n",
              "      border: none;\n",
              "      border-radius: 50%;\n",
              "      cursor: pointer;\n",
              "      display: none;\n",
              "      fill: #1967D2;\n",
              "      height: 32px;\n",
              "      padding: 0 0 0 0;\n",
              "      width: 32px;\n",
              "    }\n",
              "\n",
              "    .colab-df-convert:hover {\n",
              "      background-color: #E2EBFA;\n",
              "      box-shadow: 0px 1px 2px rgba(60, 64, 67, 0.3), 0px 1px 3px 1px rgba(60, 64, 67, 0.15);\n",
              "      fill: #174EA6;\n",
              "    }\n",
              "\n",
              "    [theme=dark] .colab-df-convert {\n",
              "      background-color: #3B4455;\n",
              "      fill: #D2E3FC;\n",
              "    }\n",
              "\n",
              "    [theme=dark] .colab-df-convert:hover {\n",
              "      background-color: #434B5C;\n",
              "      box-shadow: 0px 1px 3px 1px rgba(0, 0, 0, 0.15);\n",
              "      filter: drop-shadow(0px 1px 2px rgba(0, 0, 0, 0.3));\n",
              "      fill: #FFFFFF;\n",
              "    }\n",
              "  </style>\n",
              "\n",
              "      <script>\n",
              "        const buttonEl =\n",
              "          document.querySelector('#df-ea0b3e89-c5ba-420c-9325-17b8c373c26f button.colab-df-convert');\n",
              "        buttonEl.style.display =\n",
              "          google.colab.kernel.accessAllowed ? 'block' : 'none';\n",
              "\n",
              "        async function convertToInteractive(key) {\n",
              "          const element = document.querySelector('#df-ea0b3e89-c5ba-420c-9325-17b8c373c26f');\n",
              "          const dataTable =\n",
              "            await google.colab.kernel.invokeFunction('convertToInteractive',\n",
              "                                                     [key], {});\n",
              "          if (!dataTable) return;\n",
              "\n",
              "          const docLinkHtml = 'Like what you see? Visit the ' +\n",
              "            '<a target=\"_blank\" href=https://colab.research.google.com/notebooks/data_table.ipynb>data table notebook</a>'\n",
              "            + ' to learn more about interactive tables.';\n",
              "          element.innerHTML = '';\n",
              "          dataTable['output_type'] = 'display_data';\n",
              "          await google.colab.output.renderOutput(dataTable, element);\n",
              "          const docLink = document.createElement('div');\n",
              "          docLink.innerHTML = docLinkHtml;\n",
              "          element.appendChild(docLink);\n",
              "        }\n",
              "      </script>\n",
              "    </div>\n",
              "  </div>\n",
              "  "
            ]
          },
          "metadata": {},
          "execution_count": 25
        }
      ],
      "source": [
        "# mengubah tipe data kolom InvoiceDate menjadi datetime\n",
        "df['InvoiceDate'] = pd.to_datetime(df['InvoiceDate'])\n",
        "\n",
        "# membuat kolom baru Year berisi nilai tahun dari kolom InvoiceDate\n",
        "df['Year'] = pd.DatetimeIndex(df['InvoiceDate']).year\n",
        "\n",
        "df.head()\n"
      ]
    },
    {
      "cell_type": "markdown",
      "id": "9a9f5438",
      "metadata": {
        "id": "9a9f5438"
      },
      "source": [
        "### Filtering Data"
      ]
    },
    {
      "cell_type": "code",
      "execution_count": null,
      "id": "547a9e99",
      "metadata": {
        "colab": {
          "base_uri": "https://localhost:8080/"
        },
        "id": "547a9e99",
        "outputId": "9b19fd34-f15d-4dd8-d7f0-4aaf49d16baa"
      },
      "outputs": [
        {
          "output_type": "stream",
          "name": "stdout",
          "text": [
            "        Invoice StockCode                          Description  Quantity  \\\n",
            "0        489434     85048  15CM CHRISTMAS GLASS BALL 20 LIGHTS        12   \n",
            "1        489434    79323P                   PINK CHERRY LIGHTS        12   \n",
            "2        489434    79323W                  WHITE CHERRY LIGHTS        12   \n",
            "3        489434     22041         RECORD FRAME 7\" SINGLE SIZE         48   \n",
            "4        489434     21232       STRAWBERRY CERAMIC TRINKET BOX        24   \n",
            "...         ...       ...                                  ...       ...   \n",
            "1067366  581587     22899         CHILDREN'S APRON DOLLY GIRL          6   \n",
            "1067367  581587     23254        CHILDRENS CUTLERY DOLLY GIRL          4   \n",
            "1067368  581587     23255      CHILDRENS CUTLERY CIRCUS PARADE         4   \n",
            "1067369  581587     22138        BAKING SET 9 PIECE RETROSPOT          3   \n",
            "1067370  581587      POST                              POSTAGE         1   \n",
            "\n",
            "                InvoiceDate  Price  Customer ID         Country  Revenue  Year  \n",
            "0       2009-12-01 07:45:00   6.95      13085.0  United Kingdom    83.40  2009  \n",
            "1       2009-12-01 07:45:00   6.75      13085.0  United Kingdom    81.00  2009  \n",
            "2       2009-12-01 07:45:00   6.75      13085.0  United Kingdom    81.00  2009  \n",
            "3       2009-12-01 07:45:00   2.10      13085.0  United Kingdom   100.80  2009  \n",
            "4       2009-12-01 07:45:00   1.25      13085.0  United Kingdom    30.00  2009  \n",
            "...                     ...    ...          ...             ...      ...   ...  \n",
            "1067366 2011-12-09 12:50:00   2.10      12680.0          France    12.60  2011  \n",
            "1067367 2011-12-09 12:50:00   4.15      12680.0          France    16.60  2011  \n",
            "1067368 2011-12-09 12:50:00   4.15      12680.0          France    16.60  2011  \n",
            "1067369 2011-12-09 12:50:00   4.95      12680.0          France    14.85  2011  \n",
            "1067370 2011-12-09 12:50:00  18.00      12680.0          France    18.00  2011  \n",
            "\n",
            "[1044420 rows x 10 columns]\n"
          ]
        }
      ],
      "source": [
        "# buat filtering data\n",
        "sales = df[\n",
        "    (df['Quantity'] > 0)\n",
        "    & \n",
        "    (~df[\"Invoice\"].str.contains('C'))\n",
        "]\n",
        "print(sales)"
      ]
    },
    {
      "cell_type": "markdown",
      "id": "0bef109f",
      "metadata": {
        "id": "0bef109f"
      },
      "source": [
        "### Create New Feature: Revenue"
      ]
    },
    {
      "cell_type": "code",
      "execution_count": null,
      "id": "9a670915",
      "metadata": {
        "colab": {
          "base_uri": "https://localhost:8080/",
          "height": 206
        },
        "id": "9a670915",
        "outputId": "cdbfba00-90fc-4718-8ce8-62e20e51cfb6"
      },
      "outputs": [
        {
          "output_type": "execute_result",
          "data": {
            "text/plain": [
              "  Invoice StockCode                          Description  Quantity  \\\n",
              "0  489434     85048  15CM CHRISTMAS GLASS BALL 20 LIGHTS        12   \n",
              "1  489434    79323P                   PINK CHERRY LIGHTS        12   \n",
              "2  489434    79323W                  WHITE CHERRY LIGHTS        12   \n",
              "3  489434     22041         RECORD FRAME 7\" SINGLE SIZE         48   \n",
              "4  489434     21232       STRAWBERRY CERAMIC TRINKET BOX        24   \n",
              "\n",
              "          InvoiceDate  Price  Customer ID         Country  Revenue  Year  \n",
              "0 2009-12-01 07:45:00   6.95      13085.0  United Kingdom     83.4  2009  \n",
              "1 2009-12-01 07:45:00   6.75      13085.0  United Kingdom     81.0  2009  \n",
              "2 2009-12-01 07:45:00   6.75      13085.0  United Kingdom     81.0  2009  \n",
              "3 2009-12-01 07:45:00   2.10      13085.0  United Kingdom    100.8  2009  \n",
              "4 2009-12-01 07:45:00   1.25      13085.0  United Kingdom     30.0  2009  "
            ],
            "text/html": [
              "\n",
              "  <div id=\"df-6221863c-07eb-49e9-91e4-8aaaac10a9bd\">\n",
              "    <div class=\"colab-df-container\">\n",
              "      <div>\n",
              "<style scoped>\n",
              "    .dataframe tbody tr th:only-of-type {\n",
              "        vertical-align: middle;\n",
              "    }\n",
              "\n",
              "    .dataframe tbody tr th {\n",
              "        vertical-align: top;\n",
              "    }\n",
              "\n",
              "    .dataframe thead th {\n",
              "        text-align: right;\n",
              "    }\n",
              "</style>\n",
              "<table border=\"1\" class=\"dataframe\">\n",
              "  <thead>\n",
              "    <tr style=\"text-align: right;\">\n",
              "      <th></th>\n",
              "      <th>Invoice</th>\n",
              "      <th>StockCode</th>\n",
              "      <th>Description</th>\n",
              "      <th>Quantity</th>\n",
              "      <th>InvoiceDate</th>\n",
              "      <th>Price</th>\n",
              "      <th>Customer ID</th>\n",
              "      <th>Country</th>\n",
              "      <th>Revenue</th>\n",
              "      <th>Year</th>\n",
              "    </tr>\n",
              "  </thead>\n",
              "  <tbody>\n",
              "    <tr>\n",
              "      <th>0</th>\n",
              "      <td>489434</td>\n",
              "      <td>85048</td>\n",
              "      <td>15CM CHRISTMAS GLASS BALL 20 LIGHTS</td>\n",
              "      <td>12</td>\n",
              "      <td>2009-12-01 07:45:00</td>\n",
              "      <td>6.95</td>\n",
              "      <td>13085.0</td>\n",
              "      <td>United Kingdom</td>\n",
              "      <td>83.4</td>\n",
              "      <td>2009</td>\n",
              "    </tr>\n",
              "    <tr>\n",
              "      <th>1</th>\n",
              "      <td>489434</td>\n",
              "      <td>79323P</td>\n",
              "      <td>PINK CHERRY LIGHTS</td>\n",
              "      <td>12</td>\n",
              "      <td>2009-12-01 07:45:00</td>\n",
              "      <td>6.75</td>\n",
              "      <td>13085.0</td>\n",
              "      <td>United Kingdom</td>\n",
              "      <td>81.0</td>\n",
              "      <td>2009</td>\n",
              "    </tr>\n",
              "    <tr>\n",
              "      <th>2</th>\n",
              "      <td>489434</td>\n",
              "      <td>79323W</td>\n",
              "      <td>WHITE CHERRY LIGHTS</td>\n",
              "      <td>12</td>\n",
              "      <td>2009-12-01 07:45:00</td>\n",
              "      <td>6.75</td>\n",
              "      <td>13085.0</td>\n",
              "      <td>United Kingdom</td>\n",
              "      <td>81.0</td>\n",
              "      <td>2009</td>\n",
              "    </tr>\n",
              "    <tr>\n",
              "      <th>3</th>\n",
              "      <td>489434</td>\n",
              "      <td>22041</td>\n",
              "      <td>RECORD FRAME 7\" SINGLE SIZE</td>\n",
              "      <td>48</td>\n",
              "      <td>2009-12-01 07:45:00</td>\n",
              "      <td>2.10</td>\n",
              "      <td>13085.0</td>\n",
              "      <td>United Kingdom</td>\n",
              "      <td>100.8</td>\n",
              "      <td>2009</td>\n",
              "    </tr>\n",
              "    <tr>\n",
              "      <th>4</th>\n",
              "      <td>489434</td>\n",
              "      <td>21232</td>\n",
              "      <td>STRAWBERRY CERAMIC TRINKET BOX</td>\n",
              "      <td>24</td>\n",
              "      <td>2009-12-01 07:45:00</td>\n",
              "      <td>1.25</td>\n",
              "      <td>13085.0</td>\n",
              "      <td>United Kingdom</td>\n",
              "      <td>30.0</td>\n",
              "      <td>2009</td>\n",
              "    </tr>\n",
              "  </tbody>\n",
              "</table>\n",
              "</div>\n",
              "      <button class=\"colab-df-convert\" onclick=\"convertToInteractive('df-6221863c-07eb-49e9-91e4-8aaaac10a9bd')\"\n",
              "              title=\"Convert this dataframe to an interactive table.\"\n",
              "              style=\"display:none;\">\n",
              "        \n",
              "  <svg xmlns=\"http://www.w3.org/2000/svg\" height=\"24px\"viewBox=\"0 0 24 24\"\n",
              "       width=\"24px\">\n",
              "    <path d=\"M0 0h24v24H0V0z\" fill=\"none\"/>\n",
              "    <path d=\"M18.56 5.44l.94 2.06.94-2.06 2.06-.94-2.06-.94-.94-2.06-.94 2.06-2.06.94zm-11 1L8.5 8.5l.94-2.06 2.06-.94-2.06-.94L8.5 2.5l-.94 2.06-2.06.94zm10 10l.94 2.06.94-2.06 2.06-.94-2.06-.94-.94-2.06-.94 2.06-2.06.94z\"/><path d=\"M17.41 7.96l-1.37-1.37c-.4-.4-.92-.59-1.43-.59-.52 0-1.04.2-1.43.59L10.3 9.45l-7.72 7.72c-.78.78-.78 2.05 0 2.83L4 21.41c.39.39.9.59 1.41.59.51 0 1.02-.2 1.41-.59l7.78-7.78 2.81-2.81c.8-.78.8-2.07 0-2.86zM5.41 20L4 18.59l7.72-7.72 1.47 1.35L5.41 20z\"/>\n",
              "  </svg>\n",
              "      </button>\n",
              "      \n",
              "  <style>\n",
              "    .colab-df-container {\n",
              "      display:flex;\n",
              "      flex-wrap:wrap;\n",
              "      gap: 12px;\n",
              "    }\n",
              "\n",
              "    .colab-df-convert {\n",
              "      background-color: #E8F0FE;\n",
              "      border: none;\n",
              "      border-radius: 50%;\n",
              "      cursor: pointer;\n",
              "      display: none;\n",
              "      fill: #1967D2;\n",
              "      height: 32px;\n",
              "      padding: 0 0 0 0;\n",
              "      width: 32px;\n",
              "    }\n",
              "\n",
              "    .colab-df-convert:hover {\n",
              "      background-color: #E2EBFA;\n",
              "      box-shadow: 0px 1px 2px rgba(60, 64, 67, 0.3), 0px 1px 3px 1px rgba(60, 64, 67, 0.15);\n",
              "      fill: #174EA6;\n",
              "    }\n",
              "\n",
              "    [theme=dark] .colab-df-convert {\n",
              "      background-color: #3B4455;\n",
              "      fill: #D2E3FC;\n",
              "    }\n",
              "\n",
              "    [theme=dark] .colab-df-convert:hover {\n",
              "      background-color: #434B5C;\n",
              "      box-shadow: 0px 1px 3px 1px rgba(0, 0, 0, 0.15);\n",
              "      filter: drop-shadow(0px 1px 2px rgba(0, 0, 0, 0.3));\n",
              "      fill: #FFFFFF;\n",
              "    }\n",
              "  </style>\n",
              "\n",
              "      <script>\n",
              "        const buttonEl =\n",
              "          document.querySelector('#df-6221863c-07eb-49e9-91e4-8aaaac10a9bd button.colab-df-convert');\n",
              "        buttonEl.style.display =\n",
              "          google.colab.kernel.accessAllowed ? 'block' : 'none';\n",
              "\n",
              "        async function convertToInteractive(key) {\n",
              "          const element = document.querySelector('#df-6221863c-07eb-49e9-91e4-8aaaac10a9bd');\n",
              "          const dataTable =\n",
              "            await google.colab.kernel.invokeFunction('convertToInteractive',\n",
              "                                                     [key], {});\n",
              "          if (!dataTable) return;\n",
              "\n",
              "          const docLinkHtml = 'Like what you see? Visit the ' +\n",
              "            '<a target=\"_blank\" href=https://colab.research.google.com/notebooks/data_table.ipynb>data table notebook</a>'\n",
              "            + ' to learn more about interactive tables.';\n",
              "          element.innerHTML = '';\n",
              "          dataTable['output_type'] = 'display_data';\n",
              "          await google.colab.output.renderOutput(dataTable, element);\n",
              "          const docLink = document.createElement('div');\n",
              "          docLink.innerHTML = docLinkHtml;\n",
              "          element.appendChild(docLink);\n",
              "        }\n",
              "      </script>\n",
              "    </div>\n",
              "  </div>\n",
              "  "
            ]
          },
          "metadata": {},
          "execution_count": 27
        }
      ],
      "source": [
        "# Buat kolom baru bernama Revenue (Quantity * Price)\n",
        "df['Revenue'] = df['Quantity'] * df['Price']\n",
        "\n",
        "df.head()"
      ]
    },
    {
      "cell_type": "markdown",
      "id": "c955f053",
      "metadata": {
        "id": "c955f053"
      },
      "source": [
        "### Average of Revenue per Year"
      ]
    },
    {
      "cell_type": "code",
      "source": [
        "# Menghitung rata-rata Revenue per tahun\n",
        "revenue_by_year = sales.groupby('Year')['Revenue'].mean()\n",
        "\n",
        "print(revenue_by_year)"
      ],
      "metadata": {
        "colab": {
          "base_uri": "https://localhost:8080/"
        },
        "id": "uEhT_Dt8iTXm",
        "outputId": "0804255e-c863-4327-acbc-62191bda1d94"
      },
      "id": "uEhT_Dt8iTXm",
      "execution_count": null,
      "outputs": [
        {
          "output_type": "stream",
          "name": "stdout",
          "text": [
            "Year\n",
            "2009    18.713273\n",
            "2010    19.908987\n",
            "2011    20.058767\n",
            "Name: Revenue, dtype: float64\n"
          ]
        }
      ]
    },
    {
      "cell_type": "code",
      "source": [
        "## Membuat visualisasi dari Revenue per tahun\n",
        "\n",
        "\n",
        "# Line Plot\n",
        "plt.plot(revenue_by_year.index, revenue_by_year.values)\n",
        "\n",
        "# tambahkan judul dan label pada sumbu x dan y\n",
        "plt.title('Average of Revenue per Year')\n",
        "plt.xlabel('Year')\n",
        "plt.ylabel('Average Revenue')\n",
        "\n",
        "# tampilkan plot\n",
        "plt.show()"
      ],
      "metadata": {
        "colab": {
          "base_uri": "https://localhost:8080/",
          "height": 472
        },
        "id": "QwqgPMZKkmPx",
        "outputId": "8c1e9dad-cffb-45c3-8f72-42fac7afb375"
      },
      "id": "QwqgPMZKkmPx",
      "execution_count": null,
      "outputs": [
        {
          "output_type": "display_data",
          "data": {
            "text/plain": [
              "<Figure size 640x480 with 1 Axes>"
            ],
            "image/png": "[encoded data removed]"
          },
          "metadata": {}
        }
      ]
    },
    {
      "cell_type": "code",
      "source": [
        "# Bar Plot\n",
        "plt.bar(revenue_by_year.index, revenue_by_year.values)\n",
        "\n",
        "# atur judul dan label sumbu\n",
        "plt.title('Average Revenue by Year')\n",
        "plt.xlabel('Year')\n",
        "plt.ylabel('Average Revenue')\n",
        "\n",
        "# tampilkan plot\n",
        "plt.show()"
      ],
      "metadata": {
        "id": "jrLYACBBlra8",
        "outputId": "c6d667c7-5fc9-46f7-f7b4-f162c6fc4fcb",
        "colab": {
          "base_uri": "https://localhost:8080/",
          "height": 472
        }
      },
      "id": "jrLYACBBlra8",
      "execution_count": null,
      "outputs": [
        {
          "output_type": "display_data",
          "data": {
            "text/plain": [
              "<Figure size 640x480 with 1 Axes>"
            ],
            "image/png": "[encoded data removed]"
          },
          "metadata": {}
        }
      ]
    },
    {
      "cell_type": "markdown",
      "id": "8823e17c",
      "metadata": {
        "id": "8823e17c"
      },
      "source": [
        "### Interpretation"
      ]
    },
    {
      "cell_type": "markdown",
      "id": "3739a278",
      "metadata": {
        "id": "3739a278"
      },
      "source": [
        "Output tersebut merupakan rata-rata pendapatan per tahun dari data penjualan yang dikelompokkan berdasarkan tahun. Pada tahun 2009, rata-rata pendapatannya sebesar 18.713273, pada tahun 2010 sebesar 19.908987, dan pada tahun 2011 sebesar 20.058767. Output tersebut bisa menjadi informasi yang penting bagi perusahaan untuk mengetahui performa penjualan mereka dari tahun ke tahun dan memperhitungkan proyeksi pendapatan di masa depan."
      ]
    },
    {
      "cell_type": "markdown",
      "id": "4ff5f5d4",
      "metadata": {
        "id": "4ff5f5d4"
      },
      "source": [
        "## Section 2"
      ]
    },
    {
      "cell_type": "markdown",
      "id": "8dadd5ef",
      "metadata": {
        "id": "8dadd5ef"
      },
      "source": [
        "### Filtering Data "
      ]
    },
    {
      "cell_type": "markdown",
      "id": "2c053fd2",
      "metadata": {
        "id": "2c053fd2"
      },
      "source": [
        "#### Customers who finished their purchases"
      ]
    },
    {
      "cell_type": "code",
      "execution_count": null,
      "id": "d992a159",
      "metadata": {
        "colab": {
          "base_uri": "https://localhost:8080/"
        },
        "id": "d992a159",
        "outputId": "8eab9e04-b016-4ffc-b89a-5d9b937e6046"
      },
      "outputs": [
        {
          "output_type": "stream",
          "name": "stdout",
          "text": [
            "        Invoice StockCode                          Description  Quantity  \\\n",
            "0        489434     85048  15CM CHRISTMAS GLASS BALL 20 LIGHTS        12   \n",
            "1        489434    79323P                   PINK CHERRY LIGHTS        12   \n",
            "2        489434    79323W                  WHITE CHERRY LIGHTS        12   \n",
            "3        489434     22041         RECORD FRAME 7\" SINGLE SIZE         48   \n",
            "4        489434     21232       STRAWBERRY CERAMIC TRINKET BOX        24   \n",
            "...         ...       ...                                  ...       ...   \n",
            "1067366  581587     22899         CHILDREN'S APRON DOLLY GIRL          6   \n",
            "1067367  581587     23254        CHILDRENS CUTLERY DOLLY GIRL          4   \n",
            "1067368  581587     23255      CHILDRENS CUTLERY CIRCUS PARADE         4   \n",
            "1067369  581587     22138        BAKING SET 9 PIECE RETROSPOT          3   \n",
            "1067370  581587      POST                              POSTAGE         1   \n",
            "\n",
            "                InvoiceDate  Price  Customer ID         Country  Revenue  Year  \n",
            "0       2009-12-01 07:45:00   6.95      13085.0  United Kingdom    83.40  2009  \n",
            "1       2009-12-01 07:45:00   6.75      13085.0  United Kingdom    81.00  2009  \n",
            "2       2009-12-01 07:45:00   6.75      13085.0  United Kingdom    81.00  2009  \n",
            "3       2009-12-01 07:45:00   2.10      13085.0  United Kingdom   100.80  2009  \n",
            "4       2009-12-01 07:45:00   1.25      13085.0  United Kingdom    30.00  2009  \n",
            "...                     ...    ...          ...             ...      ...   ...  \n",
            "1067366 2011-12-09 12:50:00   2.10      12680.0          France    12.60  2011  \n",
            "1067367 2011-12-09 12:50:00   4.15      12680.0          France    16.60  2011  \n",
            "1067368 2011-12-09 12:50:00   4.15      12680.0          France    16.60  2011  \n",
            "1067369 2011-12-09 12:50:00   4.95      12680.0          France    14.85  2011  \n",
            "1067370 2011-12-09 12:50:00  18.00      12680.0          France    18.00  2011  \n",
            "\n",
            "[805620 rows x 10 columns]\n"
          ]
        }
      ],
      "source": [
        "# buat filtering data\n",
        "finish = sales[ \n",
        "    sales['Customer ID'].notnull()\n",
        "]\n",
        "\n",
        "print(finish)"
      ]
    },
    {
      "cell_type": "markdown",
      "id": "136b9900",
      "metadata": {
        "id": "136b9900"
      },
      "source": [
        "#### Customers who canceled their purchases"
      ]
    },
    {
      "cell_type": "code",
      "execution_count": null,
      "id": "98af92ed",
      "metadata": {
        "colab": {
          "base_uri": "https://localhost:8080/"
        },
        "id": "98af92ed",
        "outputId": "bca31d3e-879d-41a1-e5db-8d0c7f92e15e"
      },
      "outputs": [
        {
          "output_type": "stream",
          "name": "stdout",
          "text": [
            "         Invoice StockCode                       Description  Quantity  \\\n",
            "178      C489449     22087          PAPER BUNTING WHITE LACE       -12   \n",
            "179      C489449    85206A      CREAM FELT EASTER EGG BASKET        -6   \n",
            "180      C489449     21895     POTTING SHED SOW 'N' GROW SET        -4   \n",
            "181      C489449     21896                POTTING SHED TWINE        -6   \n",
            "182      C489449     22083        PAPER CHAIN KIT RETRO SPOT       -12   \n",
            "...          ...       ...                               ...       ...   \n",
            "1065910  C581490     23144   ZINC T-LIGHT HOLDER STARS SMALL       -11   \n",
            "1067002  C581499         M                            Manual        -1   \n",
            "1067176  C581568     21258        VICTORIAN SEWING BOX LARGE        -5   \n",
            "1067177  C581569     84978  HANGING HEART JAR T-LIGHT HOLDER        -1   \n",
            "1067178  C581569     20979     36 PENCILS TUBE RED RETROSPOT        -5   \n",
            "\n",
            "                InvoiceDate   Price  Customer ID         Country  Revenue  \\\n",
            "178     2009-12-01 10:33:00    2.95      16321.0       Australia   -35.40   \n",
            "179     2009-12-01 10:33:00    1.65      16321.0       Australia    -9.90   \n",
            "180     2009-12-01 10:33:00    4.25      16321.0       Australia   -17.00   \n",
            "181     2009-12-01 10:33:00    2.10      16321.0       Australia   -12.60   \n",
            "182     2009-12-01 10:33:00    2.95      16321.0       Australia   -35.40   \n",
            "...                     ...     ...          ...             ...      ...   \n",
            "1065910 2011-12-09 09:57:00    0.83      14397.0  United Kingdom    -9.13   \n",
            "1067002 2011-12-09 10:28:00  224.69      15498.0  United Kingdom  -224.69   \n",
            "1067176 2011-12-09 11:57:00   10.95      15311.0  United Kingdom   -54.75   \n",
            "1067177 2011-12-09 11:58:00    1.25      17315.0  United Kingdom    -1.25   \n",
            "1067178 2011-12-09 11:58:00    1.25      17315.0  United Kingdom    -6.25   \n",
            "\n",
            "         Year  \n",
            "178      2009  \n",
            "179      2009  \n",
            "180      2009  \n",
            "181      2009  \n",
            "182      2009  \n",
            "...       ...  \n",
            "1065910  2011  \n",
            "1067002  2011  \n",
            "1067176  2011  \n",
            "1067177  2011  \n",
            "1067178  2011  \n",
            "\n",
            "[19494 rows x 10 columns]\n"
          ]
        }
      ],
      "source": [
        "cancel = df[\n",
        "    df['Invoice'].str.contains('C')\n",
        "  ]\n",
        "\n",
        "print(cancel)"
      ]
    },
    {
      "cell_type": "markdown",
      "id": "d3fbb31a",
      "metadata": {
        "id": "d3fbb31a"
      },
      "source": [
        "### Number of Finished and Canceled Transactions Each Year"
      ]
    },
    {
      "cell_type": "code",
      "execution_count": null,
      "id": "04158c66",
      "metadata": {
        "colab": {
          "base_uri": "https://localhost:8080/"
        },
        "id": "04158c66",
        "outputId": "3963f681-fafa-46dc-8695-4e6ad6daf10b"
      },
      "outputs": [
        {
          "output_type": "stream",
          "name": "stdout",
          "text": [
            "      Finished  Canceled\n",
            "Year                    \n",
            "2009     44123      1015\n",
            "2010    510694      9919\n",
            "2011    489603      8560\n"
          ]
        }
      ],
      "source": [
        "# Hitung jumlah transaksi per tahun\n",
        "finished = sales.groupby('Year')['Invoice'].count()\n",
        "canceled = cancel.groupby('Year')['Invoice'].count()\n",
        "\n",
        "# Gabungkan hasil perhitungan dalam satu dataframe\n",
        "transaction_count = pd.concat([finished, canceled], axis=1, keys=['Finished', 'Canceled'])\n",
        "\n",
        "print(transaction_count)\n"
      ]
    },
    {
      "cell_type": "code",
      "source": [
        "transaction_count.plot.bar(rot=0)\n",
        "plt.title('Number of Successful and Canceled Transactions per Year')\n",
        "plt.xlabel('Year')\n",
        "plt.ylabel('Total Transactions')\n",
        "plt.legend()\n",
        "\n",
        "plt.show()"
      ],
      "metadata": {
        "id": "F4yjrJTBvumQ",
        "outputId": "7ca7bb97-7099-4822-87ff-8e174c929b2a",
        "colab": {
          "base_uri": "https://localhost:8080/",
          "height": 472
        }
      },
      "id": "F4yjrJTBvumQ",
      "execution_count": null,
      "outputs": [
        {
          "output_type": "display_data",
          "data": {
            "text/plain": [
              "<Figure size 640x480 with 1 Axes>"
            ],
            "image/png": "[encoded data removed]"
          },
          "metadata": {}
        }
      ]
    },
    {
      "cell_type": "markdown",
      "id": "158f85e3",
      "metadata": {
        "id": "158f85e3"
      },
      "source": [
        "### Cancellation Rate"
      ]
    },
    {
      "cell_type": "code",
      "execution_count": null,
      "id": "ca8edaa1",
      "metadata": {
        "colab": {
          "base_uri": "https://localhost:8080/"
        },
        "id": "ca8edaa1",
        "outputId": "b60f23f2-803e-4728-9386-173705b51d9b"
      },
      "outputs": [
        {
          "output_type": "stream",
          "name": "stdout",
          "text": [
            "Year\n",
            "2009    17.210300\n",
            "2010    15.975641\n",
            "2011    14.701571\n",
            "Name: Invoice, dtype: float64\n"
          ]
        }
      ],
      "source": [
        "# Hitung jumlah customer yang cancel per tahun\n",
        "canceled_customers = cancel.groupby('Year')['Invoice'].nunique()\n",
        "\n",
        "# Hitung jumlah seluruh customer per tahun\n",
        "total_customers = df.groupby('Year')['Invoice'].nunique()\n",
        "\n",
        "# Hitung cancellation rate per tahun\n",
        "cancellation_rate = (canceled_customers / total_customers) * 100\n",
        "\n",
        "print(cancellation_rate)"
      ]
    },
    {
      "cell_type": "markdown",
      "id": "8866bcd4",
      "metadata": {
        "id": "8866bcd4"
      },
      "source": [
        "### Interpretation"
      ]
    },
    {
      "cell_type": "code",
      "source": [
        "# Gabungan hasil perhitungan dalam satu dataframe\n",
        "\n",
        "result = pd.concat([finished, canceled, cancellation_rate], axis=1, keys=['Finished', 'Canceled', 'cancellation_rate'])\n",
        "print(result)"
      ],
      "metadata": {
        "id": "4SJy6v5tH7Ni",
        "outputId": "09cced4f-2fd7-4384-e5d7-ea66560bb6e2",
        "colab": {
          "base_uri": "https://localhost:8080/"
        }
      },
      "id": "4SJy6v5tH7Ni",
      "execution_count": null,
      "outputs": [
        {
          "output_type": "stream",
          "name": "stdout",
          "text": [
            "      Finished  Canceled  cancellation_rate\n",
            "Year                                       \n",
            "2009     44123      1015          17.210300\n",
            "2010    510694      9919          15.975641\n",
            "2011    489603      8560          14.701571\n"
          ]
        }
      ]
    },
    {
      "cell_type": "markdown",
      "id": "09c84168",
      "metadata": {
        "id": "09c84168"
      },
      "source": [
        "\n",
        "Perbandingan antara output jumlah transaksi yang berhasil dan transaksi yang dibatalkan dengan output cancellation rate menunjukkan bahwa pada tahun 2009 hingga 2011, jumlah transaksi yang berhasil terus meningkat sementara jumlah transaksi yang dibatalkan juga meningkat. Meskipun demikian, cancellation rate menunjukkan bahwa proporsi pelanggan yang membatalkan transaksi mengalami penurunan seiring dengan meningkatnya jumlah transaksi yang berhasil. Oleh karena itu, meskipun jumlah transaksi yang dibatalkan meningkat, hal ini dapat dianggap normal karena tetap berada dalam kisaran yang dapat diterima dan masih dalam batas yang dapat ditoleransi oleh perusahaan."
      ]
    },
    {
      "cell_type": "code",
      "source": [],
      "metadata": {
        "id": "QVqos7wSIDMn"
      },
      "id": "QVqos7wSIDMn",
      "execution_count": null,
      "outputs": []
    }
  ],
  "metadata": {
    "kernelspec": {
      "display_name": "Python 3 (ipykernel)",
      "language": "python",
      "name": "python3"
    },
    "language_info": {
      "codemirror_mode": {
        "name": "ipython",
        "version": 3
      },
      "file_extension": ".py",
      "mimetype": "text/x-python",
      "name": "python",
      "nbconvert_exporter": "python",
      "pygments_lexer": "ipython3",
      "version": "3.9.6"
    },
    "colab": {
      "provenance": [],
      "include_colab_link": true
    }
  },
  "nbformat": 4,
  "nbformat_minor": 5
}
